{
 "cells": [
  {
   "cell_type": "markdown",
   "id": "0a9c357f-e3b9-46df-92cc-e6fdd0b6d4a6",
   "metadata": {},
   "source": [
    "# Normal Mode Analysis (NMA)\n",
    "### University of California, Berkeley - Spring 2024"
   ]
  },
  {
   "cell_type": "markdown",
   "id": "e0946b16-2cc3-4a95-802a-814a0d89ae9c",
   "metadata": {},
   "source": [
    "The goal of today’s lecture is to present Normal Mode Analysis (NMA) simulations of macromolecules and how to run them using Python programmming language. In this lecture, `ProDy` package is used for performing simulations and visualzations. \n",
    "\n",
    "The following concepts are covered in this notebooks:\n",
    "\n",
    "* __Introduction__\n",
    "* __ProDy__\n",
    "* __GNM example with ProDy__"
   ]
  },
  {
   "cell_type": "markdown",
   "id": "f7f5084f-ffc2-4429-bb8b-23de09314eb7",
   "metadata": {},
   "source": [
    "## Introduction\n",
    "A normal mode of an oscillating system is a pattern of motion in which all parts of the system move sinusoidally with the same frequency and with a fixed phase relation. The free motion described by the normal modes takes place at fixed frequencies. These fixed frequencies of the normal modes of a system are known as its natural frequencies or resonant frequencies. A physical object, such as a building, bridge, or molecule, has a set of normal modes and their natural frequencies that depend on its structure, materials and boundary conditions. In music, normal modes of vibrating instruments (strings, air pipes, drums, etc.) are called \"harmonics\" or \"overtones\".\n",
    "\n",
    "The most general motion of a system is a superposition of its normal modes. The modes are normal in the sense that they can move independently, that is to say that an excitation of one mode will never cause motion of a different mode. In mathematical terms, normal modes are orthogonal to each other."
   ]
  },
  {
   "cell_type": "markdown",
   "id": "6010a52a-1c33-4507-9cee-43c2618b7e60",
   "metadata": {},
   "source": [
    "## [ProDy](http://prody.csb.pitt.edu/)"
   ]
  },
  {
   "cell_type": "markdown",
   "id": "bbc43824-0b6b-4860-b7b4-006f502fb19a",
   "metadata": {},
   "source": [
    "### Introduction"
   ]
  },
  {
   "cell_type": "markdown",
   "id": "2e13f7be-02c7-4c02-b968-69b7eece7dfb",
   "metadata": {
    "tags": []
   },
   "source": [
    "ProDy is a free and open-source Python package for protein structural dynamics analysis. It is designed as a flexible and responsive API suitable for interactive usage and application development.\n",
    "\n",
    "### Structure analysis\n",
    "ProDy has fast and flexible PDB and DCD file parsers, and powerful and customizable atom selections for contact identification, structure comparisons, and rapid implementation of new methods.\n",
    "\n",
    "### Dynamics analysis\n",
    "In this lecture, we are going to use ProDy for Normal Mode Analysis (NMA) which can be performed using \n",
    "\n",
    "* Anisotropic network model (ANM)\n",
    "* Gaussian network model (GNM)\n",
    "* ANM/GNM with distance and property dependent force constants\n",
    "\n",
    "Here, we will use Ubiquitin to perform Gaussian network model a.k.a. GNM.\n",
    "\n",
    "It's worth mentioning that dynamics from experimental datasets, theoretical models and simulations can be visualized using [NMWiz](http://prody.csb.pitt.edu/nmwiz/). Normal Mode Wizard (NMWiz) is a VMD plugin designed for visual comparative analysis of normal mode data, i.e. modes may come from principal component, essential dynamics, normal mode analysis or may be any vector describing a molecular motion.\n",
    "\n",
    "\n",
    "### Installation\n",
    "You can install `ProDy` package using the following commands in your terminal:\n",
    "\n",
    "\n",
    "1. Installing to your base Python installation:\n",
    "```bash\n",
    "pip install prody matplotlib\n",
    "```\n",
    "\n",
    "1. Installing using Conda (Recommended):\n",
    "```bash\n",
    "conda create -n nma\n",
    "conda activate nma\n",
    "conda install ipykernel matplotlib conda-forge::prody\n",
    "```  \n",
    "2. If using jupyter lab   \n",
    "```bash\n",
    "python -m ipykernel install --user --name=nma\n",
    "```\n",
    "3. Make sure to activate your environment as a kernel in your notebook (top right)\n",
    "\n",
    "\n",
    "### Getting Started\n",
    "Ok great! Now let's start using `ProDy` :)\n",
    "To start using ProDy and turn this notebook's interactive mode on, Please run the following cell. This will import everything from ProDy package and enables the interactive mode."
   ]
  },
  {
   "cell_type": "code",
   "execution_count": null,
   "id": "82d6fad3-77ac-4687-ba8c-54e7a4be71c8",
   "metadata": {},
   "outputs": [],
   "source": [
    "from prody import *\n",
    "from pylab import *\n",
    "\n",
    "ion() # turns interactive mode on"
   ]
  },
  {
   "cell_type": "markdown",
   "id": "68c0e2c3-3c8f-4118-a3f4-53c144d3a1e1",
   "metadata": {},
   "source": [
    "## Gaussian Network Model (GNM) Analysis with ProDy"
   ]
  },
  {
   "cell_type": "markdown",
   "id": "19a7caf5-7e27-40fb-aea7-7b5a96129344",
   "metadata": {},
   "source": [
    "This example shows how to perform GNM calculations using an X-ray structure of `ubiquitin`. `Ubiquitin` is a small, 76-amino acid, regulatory protein that was discovered in 1975. It's present in all eukaryotic cells, directing the movement of important proteins in the cell, participating in both the synthesis of new proteins and the destruction of defective proteins.\n",
    "\n",
    "A GNM instance that stores the Kirchhoff matrix and normal mode data describing the intrinsic dynamics of the protein structure will be obtained. GNM instances and individual normal modes (Mode) can be used as input to functions in ```prody.dynamics``` module.\n",
    "\n",
    "We'll go through the analysis step by step. "
   ]
  },
  {
   "cell_type": "markdown",
   "id": "b6725171-3c49-4a22-8fa7-ab8ad16224a7",
   "metadata": {},
   "source": [
    "### 1. Parsing PDB file\n",
    "Ok, let's parse the protein's PDB structure file with `ProDy`. This can be done using `parsePDB()` function from `ProDy`. The function will accept an identifier as the PDB ID. If the PDB file with the given ID exists in the local directory, it will load the file locally. Otherwise, the PDB file will be downloaded automatically.\n",
    "\n",
    "![Ubiquitin 3D structure](https://proteopedia.org/wiki/images/c/c4/Lysubq.png)\n",
    "\n",
    "Reference: https://proteopedia.org/wiki/index.php/Image:Lysubq.png"
   ]
  },
  {
   "cell_type": "code",
   "execution_count": null,
   "id": "83b77b94-24cb-40fe-b394-e2b9e0702ef6",
   "metadata": {},
   "outputs": [],
   "source": [
    "ubiquitin = parsePDB('1aar')"
   ]
  },
  {
   "cell_type": "code",
   "execution_count": null,
   "id": "6e37656a-8321-4bf5-822a-589f51767f34",
   "metadata": {},
   "outputs": [],
   "source": [
    "ubiquitin"
   ]
  },
  {
   "cell_type": "markdown",
   "id": "268585cd-8fd3-47ce-a891-61bafdee95e0",
   "metadata": {},
   "source": [
    "This file contains 2 chains, and a flexible C-terminal (residues 71-76). We only want to use Cα atoms of first 70 residues from chain A, so we select them:"
   ]
  },
  {
   "cell_type": "code",
   "execution_count": null,
   "id": "8003e2b3-8262-47a3-8b69-ddf36ba9c0ae",
   "metadata": {},
   "outputs": [],
   "source": [
    "c_alphas = ubiquitin.select('calpha and chain A and resnum < 71')"
   ]
  },
  {
   "cell_type": "code",
   "execution_count": null,
   "id": "1706e7c9-b90b-477c-9275-3553a89754f9",
   "metadata": {},
   "outputs": [],
   "source": [
    "c_alphas"
   ]
  },
  {
   "cell_type": "markdown",
   "id": "2ec5fced-87c0-4d0b-ab59-576959eac2b0",
   "metadata": {},
   "source": [
    "A comprehensive documentation of atom selection is provided by `ProDy` in this [link](http://prody.csb.pitt.edu/manual/reference/atomic/select.html#selections). You can learn more about the selection in the mentioned webpage. \n",
    "\n",
    "As an example which can be useful to know here, __Cα__ is the central point in the backbone of every amino acid. The alpha carbon (α-carbon or Cα) is what connects the amino group to the acid carboxyl group, giving amino acids their name. The alpha carbon also serves as the point of attachment for the sidechains of 19 out of 20 amino acids used in protein building.\n",
    "\n",
    "![](https://static.wikia.nocookie.net/foldit/images/e/ea/Backbone_overview_group.stickpolarh.png/revision/latest?cb=20180103000343)\n",
    "\n",
    "Figure Reference: https://static.wikia.nocookie.net/foldit/images/e/ea/Backbone_overview_group.stickpolarh.png/revision/latest?cb=20180103000343"
   ]
  },
  {
   "cell_type": "markdown",
   "id": "4282e38b-cd25-40ed-99c4-8473518b0fd7",
   "metadata": {},
   "source": [
    "### Build Kirchhoff Matrix\n",
    "First, Let's create a `GNM` object. "
   ]
  },
  {
   "cell_type": "code",
   "execution_count": null,
   "id": "5c0cbc97-6b28-4b2d-8ec8-d67c59fdf8fb",
   "metadata": {},
   "outputs": [],
   "source": [
    "gnm = GNM(name='Ubiquitin')"
   ]
  },
  {
   "cell_type": "code",
   "execution_count": null,
   "id": "dc7ab4d5-cf93-4bb8-86b1-3cb0bb16f7dd",
   "metadata": {},
   "outputs": [],
   "source": [
    "gnm"
   ]
  },
  {
   "cell_type": "markdown",
   "id": "0418cd1f-0ab6-49cc-8822-21a949603f61",
   "metadata": {},
   "source": [
    "We can build Kirchhoff matrix using selected atoms and `gnm.buildKirchhoff()` method. The method accepts the coordinates as the first arguments. It also accepts two additonal parameters named `cutoff` as the cutoff distance for pairwise interactions and `gamma` as spring constant. You can leave the parameters with their default values and move on. "
   ]
  },
  {
   "cell_type": "code",
   "execution_count": null,
   "id": "19fb0275-46d2-4c7a-9206-e7371fa2969e",
   "metadata": {},
   "outputs": [],
   "source": [
    "gnm.buildKirchhoff(coords=c_alphas, cutoff=10.0, gamma=1.0)"
   ]
  },
  {
   "cell_type": "markdown",
   "id": "f9c14865-0a26-4499-a1c6-87faa9f8abde",
   "metadata": {},
   "source": [
    "Now the Kirchhoff matrix is built, we can get a copy of it using `gnm.getKirchhoff()` method."
   ]
  },
  {
   "cell_type": "code",
   "execution_count": null,
   "id": "6c862765-8f67-4e14-b6e1-d50570e4fea1",
   "metadata": {},
   "outputs": [],
   "source": [
    "k_matrix = gnm.getKirchhoff()"
   ]
  },
  {
   "cell_type": "code",
   "execution_count": null,
   "id": "45b23139-03ee-4bbf-8f4a-a90f1ef3a90d",
   "metadata": {},
   "outputs": [],
   "source": [
    "k_matrix"
   ]
  },
  {
   "cell_type": "markdown",
   "id": "7b222441-c6a1-4c70-b01f-0b83a2eabaa8",
   "metadata": {},
   "source": [
    "__NOTE__: If you have already calculated the Kirchhoff matrix and want to set it manually, you can use `gnm.setKirchhoff()` method."
   ]
  },
  {
   "cell_type": "markdown",
   "id": "b1bb4f1f-5122-4bb4-9a28-c56c19346c47",
   "metadata": {},
   "source": [
    "### It's time to calculate the normal modes! :)\n",
    "Now that we have the Kirchhoff matrix, Calculating the normal modes can be done simply by using `gnm.calcModes()` method.\n",
    "\n",
    "Note that by default 20 non-zero (or non-trivial) modes and 1 trivial mode are calculated. Trivial modes are not retained. To calculate different numbers of non-zero modes or to keep zero modes, you can modify `n_modes` and `zeros` parameters of the function e.g. try `gnm.calcModes(50, zeros=True)`. You can set `Turbo` parameter tu `True` if you want to calculate the modes faster. It's also set by default to `True`."
   ]
  },
  {
   "cell_type": "code",
   "execution_count": null,
   "id": "8d960010-2989-4b01-a5ce-d0de4fe195de",
   "metadata": {},
   "outputs": [],
   "source": [
    "gnm.calcModes(n_modes=20, zeros=False, turbo=True)"
   ]
  },
  {
   "cell_type": "markdown",
   "id": "b8ebb0e2-d5cd-47cd-a36c-6f0b9c3c09d2",
   "metadata": {},
   "source": [
    "Ok. The modes are ready. You can get the results the following functions: \n",
    "\n",
    "* `gnm.getEigvals()`: Get Eigenvalues\n",
    "* `gnm.getEigvecs()`: Get Eigenvectors\n",
    "* `gnm.getCovariance()`: Get Covariance matrix. Note that covariance matrices are calculated using the available modes in the model, which is the slowest 20 modes in this case. If the user calculates `M` modes, these `M` modes will be used in calculating the covariance matrix."
   ]
  },
  {
   "cell_type": "code",
   "execution_count": null,
   "id": "5b7dc61d-692a-4bc2-91c2-a560c7c78c26",
   "metadata": {},
   "outputs": [],
   "source": [
    "gnm.getEigvals()"
   ]
  },
  {
   "cell_type": "code",
   "execution_count": null,
   "id": "c2783837-e2f3-4d25-b51d-6c71eedfcc89",
   "metadata": {},
   "outputs": [],
   "source": [
    "gnm.getEigvals().shape"
   ]
  },
  {
   "cell_type": "code",
   "execution_count": null,
   "id": "37a1a5be-c0e4-4744-b28a-bb6bceeccf72",
   "metadata": {},
   "outputs": [],
   "source": [
    "gnm.getEigvecs()"
   ]
  },
  {
   "cell_type": "code",
   "execution_count": null,
   "id": "e2f33a05-7ee1-4fba-b4f7-b62ab41b9e0a",
   "metadata": {},
   "outputs": [],
   "source": [
    "gnm.getEigvecs().shape"
   ]
  },
  {
   "cell_type": "code",
   "execution_count": null,
   "id": "5fa6a1d3-cdfb-4ea8-b8a4-c1a0eaa49b45",
   "metadata": {},
   "outputs": [],
   "source": [
    "gnm.getCovariance()"
   ]
  },
  {
   "cell_type": "code",
   "execution_count": null,
   "id": "fe8fb870-bf02-4490-80a4-8e644621263c",
   "metadata": {},
   "outputs": [],
   "source": [
    "gnm.getCovariance().shape"
   ]
  },
  {
   "cell_type": "markdown",
   "id": "d332c0fd-d259-4f68-92be-8bee0b3df9c9",
   "metadata": {},
   "source": [
    "In order to access to each single mode, you can index `gnm` object. Normal mode indices start from 0, so slowest mode has index 0."
   ]
  },
  {
   "cell_type": "code",
   "execution_count": null,
   "id": "2a40e83a-73c2-4469-a291-735ee65e4fc3",
   "metadata": {},
   "outputs": [],
   "source": [
    "slowest_mode = gnm[0]"
   ]
  },
  {
   "cell_type": "code",
   "execution_count": null,
   "id": "dd11d8e8-a23e-4ece-9664-60646ed96728",
   "metadata": {},
   "outputs": [],
   "source": [
    "slowest_mode.getEigval()"
   ]
  },
  {
   "cell_type": "code",
   "execution_count": null,
   "id": "f01e72a1-b245-498d-96ea-94b9609e3b9d",
   "metadata": {},
   "outputs": [],
   "source": [
    "slowest_mode.getEigvec()"
   ]
  },
  {
   "cell_type": "markdown",
   "id": "25896b50-6766-48a8-8346-3b1ad06106e3",
   "metadata": {},
   "source": [
    "### Hinge sites\n",
    "Hinge sites identified from all calculated modes. You can identify them using the global `calcHinges()` function. This function accepts `gnm` object as the first argument."
   ]
  },
  {
   "cell_type": "code",
   "execution_count": null,
   "id": "535a21ec-4ba2-4d17-a21f-3fc726d028d4",
   "metadata": {},
   "outputs": [],
   "source": [
    "hinges = calcHinges(modes=gnm)"
   ]
  },
  {
   "cell_type": "code",
   "execution_count": null,
   "id": "c5bed235-88da-42c1-a0fa-992d0da6c412",
   "metadata": {},
   "outputs": [],
   "source": [
    "len(hinges)"
   ]
  },
  {
   "cell_type": "code",
   "execution_count": null,
   "id": "30ef7cca-1a82-4352-9041-a48e29358e9e",
   "metadata": {},
   "outputs": [],
   "source": [
    "hinges[:20]"
   ]
  },
  {
   "cell_type": "markdown",
   "id": "a39c01cf-1ea6-43be-80fd-2ee17165bfd5",
   "metadata": {
    "tags": []
   },
   "source": [
    "### Short question! Calculate the hinges of the slowest mode"
   ]
  },
  {
   "cell_type": "code",
   "execution_count": null,
   "id": "d579c324-3449-4fb2-a421-484d8f3f4906",
   "metadata": {},
   "outputs": [],
   "source": [
    "### YOUR CODE GOES HERE\n",
    "slowest_hinge = calcHinges(modes=slowest_mode)\n",
    "slowest_hinge"
   ]
  },
  {
   "cell_type": "markdown",
   "id": "4d980929-2a0c-4e1a-bec3-a61b4a2a707e",
   "metadata": {},
   "source": [
    "These numbers correspond to node indices in the `gnm` object, which does not know anything about the original atoms. In order to get the residue numbers corresponding to these hinges, we can index the resum array with the hinges list as follows:"
   ]
  },
  {
   "cell_type": "code",
   "execution_count": null,
   "id": "d90ccc12-86a9-4d02-8529-08a56317ed80",
   "metadata": {},
   "outputs": [],
   "source": [
    "# 1. get a copy of residue numbers\n",
    "resnums = c_alphas.getResnums() "
   ]
  },
  {
   "cell_type": "code",
   "execution_count": null,
   "id": "f83c794f-d6c1-49ba-b138-7bbd5a30d101",
   "metadata": {},
   "outputs": [],
   "source": [
    "# 2. calculate hinge site of the mode of interest (here we used the 2nd mode)\n",
    "mode2_hinges = calcHinges(gnm[1])"
   ]
  },
  {
   "cell_type": "code",
   "execution_count": null,
   "id": "53851d40-7900-46cb-bbdd-85c7a616cdee",
   "metadata": {},
   "outputs": [],
   "source": [
    "# 3. get residue numbers corresponding these hinges\n",
    "resnums[mode2_hinges]"
   ]
  },
  {
   "cell_type": "markdown",
   "id": "f8e6cfdd-9836-4529-a267-33f1e8ad48f1",
   "metadata": {},
   "source": [
    "### Visualization!\n",
    "All of the `ProDy` visualization functions are prefixed with __`show...()`__. Let’s use some of them to plot data:"
   ]
  },
  {
   "cell_type": "markdown",
   "id": "8a4fd929-43b2-4b17-b8e2-445b7cc60ad9",
   "metadata": {},
   "source": [
    "#### Contact Map"
   ]
  },
  {
   "cell_type": "code",
   "execution_count": null,
   "id": "d5a88854-3dee-483d-b0cc-7b84d036f343",
   "metadata": {},
   "outputs": [],
   "source": [
    "showContactMap(gnm)"
   ]
  },
  {
   "cell_type": "markdown",
   "id": "ba5c429c-b93e-476b-aa83-04f47450e2ad",
   "metadata": {},
   "source": [
    "#### Cross Correlations"
   ]
  },
  {
   "cell_type": "code",
   "execution_count": null,
   "id": "c9885faa-f061-42e5-aeba-3703ceb55cd8",
   "metadata": {},
   "outputs": [],
   "source": [
    "showCrossCorr(gnm)"
   ]
  },
  {
   "cell_type": "markdown",
   "id": "672589ce-33ca-44ca-ad2f-58eb2633df21",
   "metadata": {},
   "source": [
    "#### Slow mode shape\n",
    "By default, hinge sites will be shown in `mode shape plot` indicated by __red__ stars, and it can be turned off by setting `hinges=False`. The option `zero=True` is to turn on the reference line of zero."
   ]
  },
  {
   "cell_type": "code",
   "execution_count": null,
   "id": "d8f0548b-e9ce-41c8-b373-73e458752ea6",
   "metadata": {},
   "outputs": [],
   "source": [
    "showMode(slowest_mode, hinges=True, zero=True)\n",
    "grid()"
   ]
  },
  {
   "cell_type": "markdown",
   "id": "e751ffb9-5997-4d9c-8b9a-339516fb8b9d",
   "metadata": {},
   "source": [
    "#### Square fluctuations"
   ]
  },
  {
   "cell_type": "code",
   "execution_count": null,
   "id": "6c7e258a-bf83-4d25-90f4-12c3415b8fb0",
   "metadata": {},
   "outputs": [],
   "source": [
    "showSqFlucts(slowest_mode, hinges=True)"
   ]
  },
  {
   "cell_type": "markdown",
   "id": "37decf66-b36b-47d7-9966-a229eec44c46",
   "metadata": {},
   "source": [
    "#### Protein structure bipartition\n",
    "Given a GNM mode, protein structure can be partitioned into two parts that move with respect to each other. The function `showProtein()` can take a __GNM mode__ as input and visualize the bipartition."
   ]
  },
  {
   "cell_type": "code",
   "execution_count": null,
   "id": "5b4c9f32-060f-4170-bf8c-1847da80e98b",
   "metadata": {},
   "outputs": [],
   "source": [
    "showProtein(c_alphas, mode=gnm[0])"
   ]
  },
  {
   "cell_type": "markdown",
   "id": "10d88e3c",
   "metadata": {},
   "source": [
    "## Deliverable\n",
    "Explore protein data bank and find a protein .pdb of your choice and perform normal mode analysis on the protein. For ease, duplicate the notebook under a different name. Using this new .pdb, run all the cells as before and generate new plots. Analyze your results in a write-up of minimum 250 words not including figure names or descriptions. Use your plots to support your analysis using figure numbers and detailed descriptions. Submit as a .pdf to bCourses.  "
   ]
  },
  {
   "cell_type": "markdown",
   "id": "1663f7b4-fcf2-41db-982e-b9f0461cc42d",
   "metadata": {},
   "source": [
    "Adapted from: https://github.com/Naghipourfar/molecular-biomechanics/"
   ]
  }
 ],
 "metadata": {
  "kernelspec": {
   "display_name": "Python 3 (ipykernel)",
   "language": "python",
   "name": "python3"
  },
  "language_info": {
   "codemirror_mode": {
    "name": "ipython",
    "version": 3
   },
   "file_extension": ".py",
   "mimetype": "text/x-python",
   "name": "python",
   "nbconvert_exporter": "python",
   "pygments_lexer": "ipython3",
   "version": "3.11.7"
  }
 },
 "nbformat": 4,
 "nbformat_minor": 5
}
