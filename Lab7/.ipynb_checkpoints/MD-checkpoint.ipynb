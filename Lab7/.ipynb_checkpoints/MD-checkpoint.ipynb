{
 "cells": [
  {
   "cell_type": "markdown",
   "id": "0a9c357f-e3b9-46df-92cc-e6fdd0b6d4a6",
   "metadata": {},
   "source": [
    "# Molecular Dynamics\n",
    "### University of California, Berkeley - Spring 2024"
   ]
  },
  {
   "cell_type": "markdown",
   "id": "e0946b16-2cc3-4a95-802a-814a0d89ae9c",
   "metadata": {},
   "source": [
    "The goal of today’s lecture is to present Molecular Dynamics (MD) simulations of macromolecules and how to run them using Python programmming language. In this lecture, `openmm` package is used for molecular dynamics visualizations. \n",
    "\n",
    "The following concepts are covered in this notebooks:\n",
    "\n",
    "* __Newton's Laws of Motion__\n",
    "* __Simulation of dynamics of particles__\n",
    "* __Proteins and levels of their structure__\n",
    "* __Molecular Mechanics__\n",
    "* __MD simulations of proteins__\n"
   ]
  },
  {
   "cell_type": "markdown",
   "id": "d8bbb336",
   "metadata": {},
   "source": [
    "### Dependencies"
   ]
  },
  {
   "cell_type": "markdown",
   "id": "1066e976",
   "metadata": {},
   "source": [
    "To run our packages, we need to create a python environment using Conda. Conda allows us to manage versions of Python, packages, and their dependencies in isolated settings called environments. Open your Anaconda Prompt/Terminal (MacOS) and run:  \n",
    "\n",
    "``>conda create -n md python=3.8`` This creates a new and empty conda environment with name `md` with a specified python version.  \n",
    "``>conda activate md`` This activates your new conda environment so that you can install modules to it.  \n",
    "``>conda install ipykernel numpy matplotlib`` This installs the needed modules from conda's main package library.  \n",
    "``>conda install -c conda-forge openmm nglview mdanalysis ffmpeg`` This installs the needed modules from conda's community package library. Try installing ffmpeg separately, or from the official package library. \n",
    "\n",
    "Installing packages manually may result in issues with different versions of different dependencies.  \n",
    "Alternatively:  \n",
    "``>conda env create -f environment.yml -n md``  \n",
    "\n",
    "This creates an environment from an exported file containing dependencies for packages for the most consistent experience. Make sure the file following the -f flag points to location of the .yaml/.yml file. For example, if you downloaded the lab folder to your: C:\\Users\\Ali\\Documents\\Berkeley\\MECENG-120\\Lab 7_ Molecular Dynamics folder you would insert C:\\Users\\Ali\\Documents\\Berkeley\\MECENG-120\\Lab 7_ Molecular Dynamics\\environment.yaml as your file. \n",
    "\n",
    "If using Jupyter Lab run in your terminal:  \n",
    "``>python -m ipykernel install --user --name=md``  \n",
    "This enables your environment to be selectable as a kernel in Jupyter Lab\n",
    "\n"
   ]
  },
  {
   "cell_type": "markdown",
   "id": "5c5a7aab",
   "metadata": {},
   "source": [
    "Please make sure no issues arise during installation. It is not recommended to install many packages to a single environment as there could be conflicts between dependenices. If any issues arise, create a new environment of a different name. Once your environment has been created, make sure to select it at the top right of Jupyter Lab/VSCode as a kernel."
   ]
  },
  {
   "cell_type": "code",
   "execution_count": null,
   "id": "f23da57d-5e94-4220-9a6d-f76d89a604fd",
   "metadata": {},
   "outputs": [],
   "source": [
    "from md1 import simulate_apple_fall, simulate_three_particles\n",
    "from IPython.display import Video, Image"
   ]
  },
  {
   "cell_type": "markdown",
   "id": "38974c71-e6ab-4f95-8be1-1e931e9232ed",
   "metadata": {
    "tags": []
   },
   "source": [
    "## Newton's Laws of Motion"
   ]
  },
  {
   "cell_type": "markdown",
   "id": "26c00c46-6179-4e1d-a97d-a01cca77a79d",
   "metadata": {},
   "source": [
    "Newton's 2nd law connects the kinematics (movements) of a body with its mechanics (total force acting on it) and defines the dynamic evolution of its position: \n",
    "\n",
    "$$m\\frac{d^2r(t)}{dt^2} = F = - \\nabla{U(r)},$$\n",
    "\n",
    "where $m$ is the mass, $r$ is the position, $F$ is the force and $U(r)$ is the potential energy, which depends only on the position of the body. \n",
    "If one knows the forces acting upon the body, one can find the position of the body at any moment $r(t)$, i.e. predict its dynamics. This can be done by solving Newton's equation of motion. It is a second order ODE that can be solved analytically for a few simple cases: constant force, harmonic oscillator, periodic force, drag force, etc.\n",
    "However, a more general approach is to use computers in order to solve the ODE numerically."
   ]
  },
  {
   "cell_type": "markdown",
   "id": "671ab2e6-04fa-4df0-b187-5428d5b9f35e",
   "metadata": {},
   "source": [
    "---\n",
    "## Simulation of Dynamics of Particles"
   ]
  },
  {
   "cell_type": "markdown",
   "id": "432837ae-b45b-47e6-838b-4be10625cc77",
   "metadata": {},
   "source": [
    "There are [many methods](https://en.wikipedia.org/wiki/Numerical_methods_for_ordinary_differential_equations#Methods) for solving ODEs. The second order ODE is transformed to the system of two first order ODEs as follows:\n",
    "\n",
    "$$\\frac{dr(t)}{dt} = v(t)$$\n",
    "\n",
    "$$m\\frac{dv(t)}{dt} = F(t)$$\n",
    "\n",
    "We use a finite difference approximation that comes to a simple forward Euler Algorithm: \n",
    "\n",
    "$$ v_{n+1} = v_n + \\frac{F_n}{m} dt$$\n",
    "\n",
    "$$ r_{n+1} = r_n + v_{n+1} dt$$\n",
    "\n",
    "Here we discretize time t with time step $dt$, so $t_{n+1} = t_n + dt$, and $r_{n} = r(t_n)$, $v_{n} = v(t_n)$, where $n$ is the timestep number. Using this method, computing dynamics is straightforward."
   ]
  },
  {
   "cell_type": "markdown",
   "id": "9d254c3b-0dd4-4c22-8e33-d646bee0d6e5",
   "metadata": {},
   "source": [
    "---\n",
    "### Example 3.1. Simulation of a projectile on Earth."
   ]
  },
  {
   "cell_type": "markdown",
   "id": "c07d8ab1-d79b-40c5-be72-893044418368",
   "metadata": {},
   "source": [
    "We want to know the dynamics of a green apple ($m = 0.3$ kg) tossed horizontally at 10 cm/s speed from the top of the Toronto CN Tower (553 m) for the first 10 seconds."
   ]
  },
  {
   "cell_type": "markdown",
   "id": "745740a0-c41a-4902-8352-30a9a1e4a12c",
   "metadata": {},
   "source": [
    "![](apple_fall.jpeg)"
   ]
  },
  {
   "cell_type": "code",
   "execution_count": null,
   "id": "54d6db48-ac1b-4469-8239-f556b946727b",
   "metadata": {},
   "outputs": [],
   "source": [
    "simulate_apple_fall(\n",
    "    total_time=10, \n",
    "    mass=0.3, \n",
    "    initial_velocity=0.1, \n",
    "    height=553, \n",
    "    timestep=0.05,\n",
    ")\n",
    "\n",
    "Video('results/apple_fall.mp4')\n",
    "\n",
    "# Use if ffpeg is not installed, Make sure to change md1.py to save the animation as gif\n",
    "# Image('results/apple_fall.gif')"
   ]
  },
  {
   "cell_type": "markdown",
   "id": "65e280d0-4871-4dbd-8bd0-007ec439e1f9",
   "metadata": {},
   "source": [
    "When a closed system of particles are interacting through pairwise potentials, the force on each particle $i$ depends on its position with respect to every other particle $j$:\n",
    "\n",
    "$$m_i\\frac{d^2r_i(t)}{dt^2} = \\sum_jF_{ij}(t) = -\\sum_j\\nabla_i{U(|r_{ij}(t)|)}$$\n",
    "\n",
    "where $r_{ij} = \\sqrt{(x_i - x_j)^2 + (y_i - y_j)^2 + (z_i - z_j)^2}$ is the distance between particle $i$ and $j$, and $i,j \\in (1,N)$."
   ]
  },
  {
   "cell_type": "markdown",
   "id": "a92a30ab-4f29-432c-a867-8f43cd05f34b",
   "metadata": {},
   "source": [
    "---\n",
    "### Example 3.2. Simulation of 3-body problem with Hooke's law:\n",
    "\n",
    "We want to know the dynamics of 3 particles $m = 1$ kg connected to each other with invisible springs with $K_s = 5$ N/m, and $r_0 = 1$ m initially located at (0, 2), (2, 0) and (-1, 0) on the 2D plane for the first 10 seconds of their motion.\n",
    "\n",
    "**Hint:**\n",
    "The pairwise potential is (Hooke's Law): $$U(r_{ij}) = \\frac{K_s}{2}(r_{ij} - r_0)^2$$\n",
    "\n",
    "The negative gradient of the potential is a force from $j$-th upon $i$-th: \n",
    "\n",
    "$$\\mathbf{F_{ij}} = - \\nabla_i{U(r_{ij})} = - K_s (r_{ij} - r_0) \\nabla_i r_{ij} = - K_s (r_{ij} - r_0) \\frac{\\mathbf{r_{ij}}}{|r_{ij}|}$$\n"
   ]
  },
  {
   "cell_type": "code",
   "execution_count": null,
   "id": "fc42900a-47f1-4c12-9d2d-26d5e9c66be5",
   "metadata": {},
   "outputs": [],
   "source": [
    "simulate_three_particles(\n",
    "    total_time=26, mass=1.0, ks=5, r0=1.0, timestep=0.05\n",
    ")\n",
    "\n",
    "Video('results/3particles.mp4')\n",
    "\n",
    "# Use if ffpeg is not installed, Make sure to change md1.py to save the animation as gif\n",
    "# Image('results/3particles.gif')"
   ]
  },
  {
   "cell_type": "markdown",
   "id": "59e9d8dd-7fd8-4e67-b426-3e66119188dc",
   "metadata": {},
   "source": [
    "---\n",
    "## Proteins, structure and functions "
   ]
  },
  {
   "cell_type": "markdown",
   "id": "79a02f58-9c68-47d5-9641-b99a58aaf87e",
   "metadata": {},
   "source": [
    "<img src=\"protein_structure.png\" width=\"400\" align=\"right\">\n",
    "\n",
    "While we now have a basic knowledge of the purpose and methodology of simulations, we still need to understand what proteins are and why they are important.\n",
    "\n",
    "[Protein structure](https://en.wikipedia.org/wiki/Protein_structure) is the three-dimensional arrangement of atoms in a protein, which is a chain of amino acids. Proteins are polymers – specifically polypeptides – formed from sequences of 20 types of amino acids, the monomers of the polymer. A single amino acid monomer may also be called a residue, indicating a repeating unit of a polymer. To be able to perform their biological function, proteins fold into one or more specific spatial conformations driven by a number of non-covalent interactions such as:\n",
    "\n",
    "- hydrogen bonding \n",
    "- ionic interactions \n",
    "- Van der Waals forces\n",
    "- hydrophobic packing \n",
    "\n",
    "To understand the functions of proteins at a molecular level, it is often necessary to determine their three-dimensional structure using techniques such as X-ray crystallography, NMR spectroscopy, and others.\n",
    "\n",
    "### 4.1 Levels of structure:\n",
    "\n",
    "**Primary structure** of a protein refers to the sequence of amino acids in the polypeptide chain.\n",
    "\n",
    "**Secondary structure** refers to highly regular local sub-structures of the actual polypeptide backbone chain. There are two main types of secondary structure: the α-helix and the β-strand or β-sheets.\n",
    "\n",
    "**Tertiary structure** refers to the three-dimensional structure of monomeric and multimeric protein molecules. The α-helixes and β-sheets are folded into a compact globular structure. \n",
    "\n",
    "**Quaternary structure** is the three-dimensional structure consisting of two or more individual polypeptide chains (subunits) that operate as a single functional unit (multimer).\n",
    "\n",
    "\n",
    "### 4.2 Functions:\n",
    "\n",
    "- *Antibodies* - bind to specific foreign particles, ex: IgG \n",
    "- *Enzymes* - speed up chemical reactions, ex: Lysozyme\n",
    "- *Messengers* - transmit signals, ex: Growth hormone \n",
    "- *Structural components* - support for cells, ex: Tubulin\n",
    "- *Transport/storage* - bind and carry small molecules, ex: Hemoglobin\n",
    "\n",
    "\n",
    "**Lysozyme** is a protein-enzyme (found in tears, saliva, mucus and egg white) that is a part of the innate immune system with antimicrobial activity characterized by the ability to damage the cell wall of bacteria. Bacteria have polysaccharides (sugars) in their cell wall, that bind to the groove, and lysozyme cuts the bond and destroys bacteria.  \n",
    "\n",
    "<!-- |  ![](pics/LysozymeSequence.png) | ![Protein Structure](pics/LysozymeStructure.gif) | ![Protein Strucure with Sugar](pics/LysozymeRock.gif) |\n",
    "|:-:|:-:|:-:|\n",
    "|  Sequence | Structure | Function  |\n",
    "\n",
    "Figure credit: [C.Ing](https://github.com/cing/HackingStructBiolTalk) and [wikipedia](https://en.wikipedia.org/wiki/Protein_structure) -->"
   ]
  },
  {
   "cell_type": "markdown",
   "id": "4781846c-0880-403c-a904-3ba92813c883",
   "metadata": {},
   "source": [
    "---\n",
    "## Molecular Mechanics"
   ]
  },
  {
   "cell_type": "markdown",
   "id": "86a1a433-a5e6-4707-927d-67606bc2a717",
   "metadata": {},
   "source": [
    "Since we now know what proteins are and why these molecular machines are important, we consider the method to model them. The basic idea is to create the same kind of approach as we used in the 3-body simulation. Now, our system consists of thousands particles (atoms of the protein plus atoms of surrounding water) and they all are connected via a complex potential energy function.\n",
    "\n",
    "An all-atom potential energy function $V$ is usually given by the sum of the bonded terms ($V_b$) and non-bonded terms ($V_{nb}$), i.e.\n",
    "\n",
    "$$V = V_{b} + V_{nb},$$\n",
    "\n",
    "where the bonded potential includes the harmonic (covalent) bond part, the harmonic angle and\n",
    "the two types of torsion (dihedral) angles: proper and improper. As it can be seen, these functions are mostly harmonic potentials \n",
    "\n",
    "$$V_{b} = \\sum_{bonds}\\frac{1}{2}K_b(b-b_0)^2 + \\sum_{angles}K_{\\theta}(\\theta-\\theta_0)^2 + \\sum_{dihedrals}K_{\\phi}(1-cos(n\\phi - \\phi_0)) + \\sum_{impropers}K_{\\psi}(\\psi-\\psi_0)^2$$\n",
    "\n",
    "For example, $b$ and $\\theta$ represent the distance between two atoms and the angle between two\n",
    "adjacent bonds; $\\phi$ and $\\psi$ are dihedral (torsion) angles. These can be evaluated for all the\n",
    "atoms from their current positions. Also, $K_b$, $K_\\theta$, $K_\\phi$, and $K_\\psi$ are the spring constants, associated\n",
    "with bond vibrations, bending of bond angles, and conformational fluctuations in dihedral and\n",
    "improper angles around some equilibrium values $b_0$, $\\theta_0$, $\\phi_0$, and $\\psi_0$, respectively. \n",
    "\n",
    "The non-bonded part of the potential energy function is represented by the electrostatic and van der Waals potentials, i.e.\n",
    "\n",
    "$$V_{nb} = \\sum_{i,j}\\left(\\frac{q_{i}q_{j}}{4\\pi\\varepsilon_{0}\\varepsilon r_{ij}} + \\varepsilon_{ij}\\left[\\left(\\frac{\\sigma^{min}_{ij}}{r_{ij}}\\right)^{12}-2\\left(\\frac{\\sigma^{min}_{ij}}{r_{ij}}\\right)^{6}\\right]\\right)$$\n",
    "\n",
    "where $r_{ij}$ is the distance between two interacting atoms, $q_i$ and $q_j$ are their electric charges; $\\varepsilon$ and\n",
    "$\\varepsilon_0$ are electric and dielectric constant; $\\varepsilon_{ij} = \\sqrt{\\varepsilon_i\\varepsilon_j}$ and\n",
    "$\\sigma_{ij} = \\frac{\\sigma_i + \\sigma_j}{2}$ are van der Waals parameters for atoms $i$ and $j$.\n",
    "\n",
    "**Importantly, each force field has its own set of parameters, which are different for different types of atoms.**\n",
    "\n",
    "![](pics/ff.png)\n"
   ]
  },
  {
   "cell_type": "markdown",
   "id": "fe26ca3e-91ec-4720-bbad-82bb8847b9b2",
   "metadata": {},
   "source": [
    "---\n",
    "## Molecular dynamics of proteins <a id='l_md'></a>"
   ]
  },
  {
   "cell_type": "markdown",
   "id": "0deda886-2eb2-46e2-8818-82d565b6b9c2",
   "metadata": {},
   "source": [
    "[**Molecular dynamics (MD)**](https://en.wikipedia.org/wiki/Molecular_dynamics) is a computer simulation method for studying the physical movements of atoms and molecules, i.e. their dynamical evolution. \n",
    "\n",
    "In the most common version, the trajectories of atoms and molecules are determined by numerically solving Newton's equations of motion for a system of interacting particles, where forces between the particles and their potential energies are often calculated using  molecular mechanics force fields. \n",
    "\n",
    "\n",
    "\n",
    "Now with all that intellectual equipment, we can start running legit Molecular Dynamics simulations. All we need is an initial structure of the protein and software that computes its dynamics efficiently."
   ]
  },
  {
   "cell_type": "markdown",
   "id": "60acfed2-c55c-47bf-9ddf-8a10202ab16f",
   "metadata": {},
   "source": [
    "### Procedure\n",
    "\n",
    "1. Load initial coordinates of protein atoms (from *.pdb file)\n",
    "2. Choose force field parameters (in potential function V from section 5).\n",
    "3. Choose parameters of the experiment: temperature, pressure, box size, solvation, boundary conditions\n",
    "4. Choose integrator, i.e. algorithm for solving equation of motion\n",
    "5. Run simulation, save coordinates time to time (to *.dcd file).\n",
    "6. Visualize the trajectory\n",
    "7. Perform the analysis"
   ]
  },
  {
   "cell_type": "markdown",
   "id": "534ef0ae-9d2e-4875-9fba-36e0edb61571",
   "metadata": {},
   "source": [
    "__NOTE__: It is better for students to gain a little understanding of how the following packages are working under the hood before continuing the notebook.\n",
    "\n",
    "* __NGLViewer__: NGL Viewer is a collection of tools for web-based molecular graphics. WebGL is employed to display molecules like proteins and DNA/RNA with a variety of representations.\n",
    "\n",
    "* __MDAnalysis__: MDAnalysis is an object-oriented Python library to analyze trajectories from molecular dynamics (MD) simulations in many popular formats. It can write most of these formats, too, together with atom selections suitable for visualization or native analysis tools.\n",
    "\n",
    "* __Openmm__: Openmm consists of two parts: One is a set of libraries that lets programmers easily add molecular simulation features to their programs and the other parts is an “application layer” that exposes those features to end users who just want to run simulations"
   ]
  },
  {
   "cell_type": "markdown",
   "id": "f1da24b9",
   "metadata": {},
   "source": [
    "---\n",
    "### Example: MD simulation of protein folding into alpha-helix "
   ]
  },
  {
   "cell_type": "code",
   "execution_count": null,
   "id": "bb0e9826",
   "metadata": {},
   "outputs": [],
   "source": [
    "from openmm.app import *\n",
    "from openmm import *\n",
    "from openmm.unit import *\n",
    "import MDAnalysis as mda\n",
    "import nglview as nv\n",
    "from sys import stdout\n",
    "import pathlib"
   ]
  },
  {
   "cell_type": "code",
   "execution_count": null,
   "id": "3fd709e0",
   "metadata": {},
   "outputs": [],
   "source": [
    "# Load PDB file\n",
    "input = pathlib.Path(\n",
    "    # Uncomment the line below to use a local file\n",
    "    # \"data/villin_water.pdb\"\n",
    "    \"data/polyALA.pdb\"\n",
    "    # \"data/polyGLY.pdb\"\n",
    "    # \"data/polyGV.pdb\",\n",
    "\n",
    ")\n",
    "protein = input.name.split(\".\")[0]\n",
    "\n",
    "pdb = PDBFile(str(input))"
   ]
  },
  {
   "cell_type": "code",
   "execution_count": null,
   "id": "c233536f",
   "metadata": {},
   "outputs": [],
   "source": [
    "# Create system\n",
    "forcefield = ForceField(\n",
    "    # 'amber99sb.xml',\n",
    "    # 'tip3p.xml',\n",
    "\n",
    "    'amber10.xml',\n",
    "\n",
    "    # 'amber14-all.xml',\n",
    "    # 'amber14/tip3pfb.xml'\n",
    "    # HINT: Use the amber14 force fields for villin\n",
    ")\n",
    "# Extra steps to clean up the system:\n",
    "# modeller = Modeller(pdb.topology, pdb.positions)\n",
    "# modeller.deleteWater()\n",
    "# residues = modeller.addHydrogens(forcefield)\n",
    "# modeller.addSolvent(forcefield, padding=1.0*nanometer)\n",
    "\n",
    "system = forcefield.createSystem(\n",
    "    pdb.topology,\n",
    "    nonbondedMethod=NoCutoff,\n",
    "    constraints=HBonds\n",
    ")\n",
    "\n",
    "# Set parameters for the experiment\n",
    "temperature = 300*kelvin\n",
    "friction = 1/picosecond\n",
    "timestep = 0.002*picoseconds\n",
    "total_steps = 400*picoseconds/timestep\n",
    "traj_record_freq = 1000  # Save trajectory every 1000 steps, decrease to show more detail in simualtion\n",
    "\n",
    "# Set up integrator\n",
    "integrator = LangevinIntegrator(\n",
    "    temperature,\n",
    "    friction,\n",
    "    timestep\n",
    ")\n",
    "\n",
    "# Set up simulation\n",
    "simulation = Simulation(pdb.topology, system, integrator)\n",
    "simulation.context.setPositions(pdb.positions)\n",
    "\n",
    "# Minimize energy\n",
    "simulation.minimizeEnergy()\n",
    "print(f\"Running dynamics for {total_steps} steps on {protein}, saving trajectory every {traj_record_freq} steps...\")\n",
    "# Add reporter to save trajectory\n",
    "simulation.reporters.append(PDBReporter(f\"results/{protein}_{str(temperature)[:3]}K_traj.pdb\", traj_record_freq))\n",
    "# Print progress to standard output\n",
    "simulation.reporters.append(StateDataReporter(\n",
    "    stdout,\n",
    "    total_steps//10,\n",
    "    step=True,\n",
    "    potentialEnergy=True,\n",
    "    temperature=True,\n",
    "    progress=True,\n",
    "    totalSteps = total_steps\n",
    "))\n",
    "\n",
    "# Run simulation\n",
    "simulation.step(total_steps)\n",
    "\n",
    "traj = pathlib.Path(f\"results/{protein}_{str(temperature)[:3]}K_traj.pdb\")\n",
    "print(f\"Simulation Complete.\\nTrajectory saved to {traj}\")\n",
    "# Load trajectory using MDAnalysis\n",
    "u = mda.Universe(input, traj)"
   ]
  },
  {
   "cell_type": "code",
   "execution_count": null,
   "id": "83a3fcc3",
   "metadata": {},
   "outputs": [],
   "source": [
    "# Visualize trajectory using nglview\n",
    "view = nv.show_mdanalysis(u, show_gui=True)\n",
    "view"
   ]
  },
  {
   "cell_type": "markdown",
   "id": "3b2c594d-2658-474c-b971-01860944c403",
   "metadata": {},
   "source": [
    "Run a simulation of fully extended polyalanine __polyALA.pdb__ for 400 picoseconds in a vacuo environment with T=300 K and see if it can fold to any secondary structure:"
   ]
  },
  {
   "cell_type": "markdown",
   "id": "210e1580",
   "metadata": {},
   "source": [
    "## Deliverables"
   ]
  },
  {
   "cell_type": "markdown",
   "id": "d70aa01f",
   "metadata": {},
   "source": [
    "Run simulations for 400 picoseconds on the rest of the .pdb files provided in the data/ directory. Run simulations at 300K, 400K, and 200K for each protein and comment on the differences between the final secondary structure of each simulation. Test out different force fields by uncommenting them in the notebook. Comment on which force fields work on which proteins and comment on any differences between the structures of the same protein simulated in different force fields. Justify all of your responses with screenshots of your trajectory viewer. You should have 10 screenshots MINIMUM. Label your screenshots with figure numbers and descriptions in your report. Your write-up will be 250 words minimum not including figure descriptions. Submit to bCourses as Lab7-MD.pdf \n",
    "\n",
    "Note: Simulating Villin may be computationally expensive. Only simulate Villin once at 300K   \n",
    "\n",
    "**OPTIONAL**: Navigate to the [Protein Data Bank](https://www.rcsb.org/). Use the search entry to find a protein that interests you. Simulate this protein and comment on your results. Provide a decribtion of your simulation parameters and system. This is good practice for your final projects. "
   ]
  }
 ],
 "metadata": {
  "kernelspec": {
   "display_name": "md",
   "language": "python",
   "name": "python3"
  },
  "language_info": {
   "codemirror_mode": {
    "name": "ipython",
    "version": 3
   },
   "file_extension": ".py",
   "mimetype": "text/x-python",
   "name": "python",
   "nbconvert_exporter": "python",
   "pygments_lexer": "ipython3",
   "version": "3.8.18"
  }
 },
 "nbformat": 4,
 "nbformat_minor": 5
}
